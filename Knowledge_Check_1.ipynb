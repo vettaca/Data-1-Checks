{
 "cells": [
  {
   "cell_type": "code",
   "execution_count": 1,
   "metadata": {},
   "outputs": [
    {
     "name": "stdout",
     "output_type": "stream",
     "text": [
      "hello world\n"
     ]
    }
   ],
   "source": [
    "#Step 1 print 'hello world'\n",
    "print('hello world') "
   ]
  },
  {
   "cell_type": "code",
   "execution_count": 2,
   "metadata": {},
   "outputs": [
    {
     "name": "stdout",
     "output_type": "stream",
     "text": [
      "peaches\n"
     ]
    }
   ],
   "source": [
    "#Step 2 print a specific item from a list\n",
    "thefruits = [\"peaches\", \"plums\", \"tomatoes\"]\n",
    "print(thefruits[0]) "
   ]
  },
  {
   "cell_type": "code",
   "execution_count": null,
   "metadata": {},
   "outputs": [],
   "source": [
    "#Step 3 create a dictionary \n",
    "royalbadness = {\n",
    "  \"musician\": \"Prince\",\n",
    "  \"Albums\" : [\"PurpleRain\",\"Parade\",\"DiamondsandPearls\"],\n",
    "  \"years\" : [1984, 1986, 1991]\n",
    "  \n",
    "}\n",
    "print(royalbadness[\"musician\"])"
   ]
  },
  {
   "cell_type": "code",
   "execution_count": 3,
   "metadata": {},
   "outputs": [
    {
     "data": {
      "text/plain": [
       "'peaches'"
      ]
     },
     "execution_count": 3,
     "metadata": {},
     "output_type": "execute_result"
    }
   ],
   "source": [
    "#Step 2 print a specific item from a list\n",
    "thefruits = [\"peaches\", \"plums\", \"tomatoes\"]\n",
    "thefruits[0] "
   ]
  }
 ],
 "metadata": {
  "kernelspec": {
   "display_name": "Python 3.9.13 64-bit (microsoft store)",
   "language": "python",
   "name": "python3"
  },
  "language_info": {
   "codemirror_mode": {
    "name": "ipython",
    "version": 3
   },
   "file_extension": ".py",
   "mimetype": "text/x-python",
   "name": "python",
   "nbconvert_exporter": "python",
   "pygments_lexer": "ipython3",
   "version": "3.9.13"
  },
  "orig_nbformat": 4,
  "vscode": {
   "interpreter": {
    "hash": "2b2b9afcfb6bb7b0bfc841d6ddf659aa6dda725cf75e67ad31c0dd7d68f880cc"
   }
  }
 },
 "nbformat": 4,
 "nbformat_minor": 2
}
